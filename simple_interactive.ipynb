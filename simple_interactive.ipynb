{
 "cells": [
  {
   "cell_type": "markdown",
   "metadata": {},
   "source": [
    "# Voila example \n",
    "\n",
    "## with bqplot \n",
    "## accessible via Github / Binder"
   ]
  },
  {
   "cell_type": "code",
   "execution_count": 7,
   "metadata": {},
   "outputs": [],
   "source": [
    "import numpy as np\n",
    "import bqplot.pyplot as plt\n",
    "import ipywidgets as widgets"
   ]
  },
  {
   "cell_type": "code",
   "execution_count": 15,
   "metadata": {},
   "outputs": [],
   "source": [
    "# This function is the \"simulation\".\n",
    "# We want to observe the effect of changing the parameter `freq`.\n",
    "def func(xs, freq):\n",
    "    return np.cos(freq * xs)\n",
    "\n",
    "freq = 4\n",
    "xs = np.linspace(0, 10, 200)\n",
    "ys = func(xs, freq)"
   ]
  },
  {
   "cell_type": "code",
   "execution_count": 16,
   "metadata": {},
   "outputs": [
    {
     "data": {
      "application/vnd.jupyter.widget-view+json": {
       "model_id": "1bdc8c843a1247e69b5629bda2a0b3d3",
       "version_major": 2,
       "version_minor": 0
      },
      "text/plain": [
       "VBox(children=(Figure(fig_margin={'top': 60, 'bottom': 60, 'left': 60, 'right': 60}, layout=Layout(min_width='…"
      ]
     },
     "metadata": {},
     "output_type": "display_data"
    }
   ],
   "source": [
    "# Plot the initial line\n",
    "line = plt.plot(xs, ys)\n",
    "\n",
    "# Create a slider that will control `freq`\n",
    "slider = widgets.FloatSlider(value=freq, min=1, max=10, step=0.1)\n",
    "\n",
    "# We define a callback function - this one is simple, but there is a lot of flexibility here.\n",
    "def on_slider(change):\n",
    "    line.y = func(line.x, change['new'])\n",
    "\n",
    "# Connect the slider and the callback.\n",
    "# Everytime the slider is moved, it triggers the callback.\n",
    "slider.observe(on_slider, names='value')\n",
    "\n",
    "# Create the line plot\n",
    "fig = plt.figure(marks=[line])\n",
    "\n",
    "# Arrange the slider and plot.\n",
    "box = widgets.VBox([fig, slider])\n",
    "\n",
    "# Show\n",
    "box"
   ]
  },
  {
   "cell_type": "code",
   "execution_count": null,
   "metadata": {},
   "outputs": [],
   "source": []
  }
 ],
 "metadata": {
  "kernelspec": {
   "display_name": "Python 3",
   "language": "python",
   "name": "python3"
  },
  "language_info": {
   "codemirror_mode": {
    "name": "ipython",
    "version": 3
   },
   "file_extension": ".py",
   "mimetype": "text/x-python",
   "name": "python",
   "nbconvert_exporter": "python",
   "pygments_lexer": "ipython3",
   "version": "3.8.5"
  }
 },
 "nbformat": 4,
 "nbformat_minor": 4
}
